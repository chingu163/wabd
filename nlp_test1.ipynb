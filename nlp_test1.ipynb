{
 "cells": [
  {
   "cell_type": "code",
   "execution_count": 21,
   "metadata": {
    "collapsed": false
   },
   "outputs": [],
   "source": [
    "'''Trains and evaluate a simple MLP\n",
    "on the Reuters newswire topic classification task.\n",
    "'''\n",
    "from __future__ import print_function\n",
    "\n",
    "import numpy as np\n",
    "import keras\n",
    "from keras.datasets import reuters\n",
    "from keras.models import Sequential\n",
    "from keras.layers import Dense, Dropout, Activation\n",
    "from keras.preprocessing.text import Tokenizer\n",
    "from keras_tqdm import TQDMNotebookCallback\n",
    "\n",
    "max_words = 1000\n",
    "batch_size = 128\n",
    "epochs = 10"
   ]
  },
  {
   "cell_type": "code",
   "execution_count": 14,
   "metadata": {
    "collapsed": false
   },
   "outputs": [
    {
     "name": "stdout",
     "output_type": "stream",
     "text": [
      "Loading data...\n",
      "8982 train sequences\n",
      "2246 test sequences\n",
      "46 classes\n"
     ]
    }
   ],
   "source": [
    "print('Loading data...')\n",
    "\n",
    "(x_train, y_train), (x_test, y_test) = reuters.load_data(num_words=max_words,test_split=0.2)\n",
    "\n",
    "print(len(x_train), 'train sequences')\n",
    "print(len(x_test), 'test sequences')\n",
    "\n",
    "num_classes = np.max(y_train) + 1\n",
    "print(num_classes, 'classes')"
   ]
  },
  {
   "cell_type": "code",
   "execution_count": 15,
   "metadata": {
    "collapsed": false
   },
   "outputs": [
    {
     "name": "stdout",
     "output_type": "stream",
     "text": [
      "Vectorizing sequence data...\n",
      "x_train shape: (8982, 1000)\n",
      "x_test shape: (2246, 1000)\n"
     ]
    }
   ],
   "source": [
    "print('Vectorizing sequence data...')\n",
    "tokenizer = Tokenizer(num_words=max_words)\n",
    "x_train = tokenizer.sequences_to_matrix(x_train, mode='binary')\n",
    "x_test = tokenizer.sequences_to_matrix(x_test, mode='binary')\n",
    "print('x_train shape:', x_train.shape)\n",
    "print('x_test shape:', x_test.shape)"
   ]
  },
  {
   "cell_type": "code",
   "execution_count": 16,
   "metadata": {
    "collapsed": false
   },
   "outputs": [
    {
     "name": "stdout",
     "output_type": "stream",
     "text": [
      "Convert class vector to binary class matrix (for use with categorical_crossentropy)\n",
      "y_train shape: (8982, 46)\n",
      "y_test shape: (2246, 46)\n"
     ]
    }
   ],
   "source": [
    "print('Convert class vector to binary class matrix '\n",
    "      '(for use with categorical_crossentropy)')\n",
    "y_train = keras.utils.to_categorical(y_train, num_classes)\n",
    "y_test = keras.utils.to_categorical(y_test, num_classes)\n",
    "print('y_train shape:', y_train.shape)\n",
    "print('y_test shape:', y_test.shape)"
   ]
  },
  {
   "cell_type": "code",
   "execution_count": 18,
   "metadata": {
    "collapsed": false
   },
   "outputs": [
    {
     "name": "stdout",
     "output_type": "stream",
     "text": [
      "Building model...\n",
      "_________________________________________________________________\n",
      "Layer (type)                 Output Shape              Param #   \n",
      "=================================================================\n",
      "dense_7 (Dense)              (None, 512)               512512    \n",
      "_________________________________________________________________\n",
      "activation_7 (Activation)    (None, 512)               0         \n",
      "_________________________________________________________________\n",
      "dropout_4 (Dropout)          (None, 512)               0         \n",
      "_________________________________________________________________\n",
      "dense_8 (Dense)              (None, 46)                23598     \n",
      "_________________________________________________________________\n",
      "activation_8 (Activation)    (None, 46)                0         \n",
      "=================================================================\n",
      "Total params: 536,110.0\n",
      "Trainable params: 536,110.0\n",
      "Non-trainable params: 0.0\n",
      "_________________________________________________________________\n"
     ]
    }
   ],
   "source": [
    "print('Building model...')\n",
    "model = Sequential()\n",
    "model.add(Dense(512, input_shape=(max_words,)))\n",
    "model.add(Activation('relu'))\n",
    "model.add(Dropout(0.5))\n",
    "model.add(Dense(num_classes))\n",
    "model.add(Activation('softmax'))\n",
    "\n",
    "model.summary()"
   ]
  },
  {
   "cell_type": "code",
   "execution_count": 19,
   "metadata": {
    "collapsed": true
   },
   "outputs": [],
   "source": [
    "model.compile(loss='categorical_crossentropy',\n",
    "              optimizer='adam',\n",
    "              metrics=['accuracy'])"
   ]
  },
  {
   "cell_type": "code",
   "execution_count": 24,
   "metadata": {
    "collapsed": false
   },
   "outputs": [
    {
     "name": "stdout",
     "output_type": "stream",
     "text": [
      "\n"
     ]
    }
   ],
   "source": [
    "history = model.fit(x_train, y_train,\n",
    "                    batch_size=batch_size,\n",
    "                    epochs=epochs,\n",
    "                    verbose=0,\n",
    "                    validation_split=0.1, \n",
    "                    callbacks=[TQDMNotebookCallback(leave_inner=True)])"
   ]
  },
  {
   "cell_type": "code",
   "execution_count": 26,
   "metadata": {
    "collapsed": false,
    "scrolled": true
   },
   "outputs": [
    {
     "name": "stdout",
     "output_type": "stream",
     "text": [
      "Test score: 1.17166472139\n",
      "Test accuracy: 0.78138913672\n"
     ]
    }
   ],
   "source": [
    "score = model.evaluate(x_test, y_test, batch_size=batch_size, verbose=0)\n",
    "print('Test score:', score[0])\n",
    "print('Test accuracy:', score[1])"
   ]
  },
  {
   "cell_type": "code",
   "execution_count": null,
   "metadata": {
    "collapsed": true
   },
   "outputs": [],
   "source": []
  }
 ],
 "metadata": {
  "kernelspec": {
   "display_name": "Python 3",
   "language": "python",
   "name": "python3"
  },
  "language_info": {
   "codemirror_mode": {
    "name": "ipython",
    "version": 3
   },
   "file_extension": ".py",
   "mimetype": "text/x-python",
   "name": "python",
   "nbconvert_exporter": "python",
   "pygments_lexer": "ipython3",
   "version": "3.6.0"
  },
  "widgets": {
   "state": {
    "0dc33915e0dc4dab8996a9a9ea4499e9": {
     "views": [
      {
       "cell_index": 6
      }
     ]
    },
    "10b5c2cb05b148c5928104e86947dac0": {
     "views": [
      {
       "cell_index": 6
      }
     ]
    },
    "1357ccba9f3f48debab0f7692d6e78dd": {
     "views": [
      {
       "cell_index": 6
      }
     ]
    },
    "15e2bcfba42544b991dd8c53c364aea7": {
     "views": [
      {
       "cell_index": 6
      }
     ]
    },
    "212692a5b31b4a78a3bf396c54269bf2": {
     "views": [
      {
       "cell_index": 6
      }
     ]
    },
    "290c699bda4b46108942de89427802cd": {
     "views": [
      {
       "cell_index": 6
      }
     ]
    },
    "32ad64f3e9c640fd8e5cdf0499dde00b": {
     "views": [
      {
       "cell_index": 6
      }
     ]
    },
    "3f4f68de12c54a18926472aae56ff6e4": {
     "views": [
      {
       "cell_index": 6
      }
     ]
    },
    "4c8909cb578b4c979ec6c3a9828235bd": {
     "views": [
      {
       "cell_index": 6
      }
     ]
    },
    "4e0be6bf8e4547b09b9915d6929638e2": {
     "views": [
      {
       "cell_index": 6
      }
     ]
    },
    "537c6e004c9247c782d3716d65b38d80": {
     "views": [
      {
       "cell_index": 6
      }
     ]
    },
    "54790f389a0e425a83dd5faa865b78f7": {
     "views": [
      {
       "cell_index": 6
      }
     ]
    },
    "6498658328b24d5e8bf4d10056849759": {
     "views": [
      {
       "cell_index": 6
      }
     ]
    },
    "65a8b4ca6b814d14b8c1e4900dc42b0c": {
     "views": [
      {
       "cell_index": 6
      }
     ]
    },
    "6f843a0957794266a5436732198888bb": {
     "views": [
      {
       "cell_index": 6
      }
     ]
    },
    "73a52a72b4564afe8d2ce8607766162a": {
     "views": [
      {
       "cell_index": 6
      }
     ]
    },
    "79cd41aba432463cbc516e130b2ae826": {
     "views": [
      {
       "cell_index": 6
      }
     ]
    },
    "8799048d6d7d4cdab5b9c2dd4dca0ab5": {
     "views": [
      {
       "cell_index": 6
      }
     ]
    },
    "8b33efb972c648dfaf6bdb067f2145f4": {
     "views": [
      {
       "cell_index": 6
      }
     ]
    },
    "950c5b31481849d3a772004c5a4f4d2b": {
     "views": [
      {
       "cell_index": 6
      }
     ]
    },
    "b45cfbb75f4d467987be439fcfe7bdad": {
     "views": [
      {
       "cell_index": 6
      }
     ]
    },
    "cc4a024f4ba9463faa3b76ceb3f1037d": {
     "views": [
      {
       "cell_index": 6
      }
     ]
    },
    "d32e64e84f2c4fa899e317967cf1c564": {
     "views": [
      {
       "cell_index": 6
      }
     ]
    },
    "d57a43a09aac465db9df520845868f11": {
     "views": [
      {
       "cell_index": 6
      }
     ]
    },
    "d83331e406d84378b9304827db68c9b3": {
     "views": [
      {
       "cell_index": 6
      }
     ]
    },
    "de6853fe231c45e28b7c7273fe80238f": {
     "views": [
      {
       "cell_index": 6
      }
     ]
    },
    "e025d6e76dce4e8d8ddc0cadad295e9b": {
     "views": [
      {
       "cell_index": 6
      }
     ]
    },
    "ec814330d0de4adfbe333fd064439004": {
     "views": [
      {
       "cell_index": 6
      }
     ]
    },
    "ece4bf761d334c32b03a2610385633ea": {
     "views": [
      {
       "cell_index": 6
      }
     ]
    },
    "f4ab5494e93a45e0a4f333126609f256": {
     "views": [
      {
       "cell_index": 6
      }
     ]
    },
    "fb6f53b42a734bdc865d94a0130a7b10": {
     "views": [
      {
       "cell_index": 6
      }
     ]
    },
    "fbdad9ac7ec546f3b83540a17d82a4c6": {
     "views": [
      {
       "cell_index": 6
      }
     ]
    }
   },
   "version": "1.2.0"
  }
 },
 "nbformat": 4,
 "nbformat_minor": 2
}
