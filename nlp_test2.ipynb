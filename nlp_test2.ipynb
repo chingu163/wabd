{
 "cells": [
  {
   "cell_type": "code",
   "execution_count": 1,
   "metadata": {},
   "outputs": [
    {
     "data": {
      "text/plain": [
       "'This script loads pre-trained word embeddings (GloVe embeddings)\\ninto a frozen Keras Embedding layer, and uses it to\\ntrain a text classification model on the 20 Newsgroup dataset\\n(classication of newsgroup messages into 20 different categories).\\nGloVe embedding data can be found at:\\nhttp://nlp.stanford.edu/data/glove.6B.zip\\n(source page: http://nlp.stanford.edu/projects/glove/)\\n20 Newsgroup data can be found at:\\nhttp://www.cs.cmu.edu/afs/cs.cmu.edu/project/theo-20/www/data/news20.html\\n'"
      ]
     },
     "execution_count": 1,
     "metadata": {},
     "output_type": "execute_result"
    }
   ],
   "source": [
    "'''This script loads pre-trained word embeddings (GloVe embeddings)\n",
    "into a frozen Keras Embedding layer, and uses it to\n",
    "train a text classification model on the 20 Newsgroup dataset\n",
    "(classication of newsgroup messages into 20 different categories).\n",
    "GloVe embedding data can be found at:\n",
    "http://nlp.stanford.edu/data/glove.6B.zip\n",
    "(source page: http://nlp.stanford.edu/projects/glove/)\n",
    "20 Newsgroup data can be found at:\n",
    "http://www.cs.cmu.edu/afs/cs.cmu.edu/project/theo-20/www/data/news20.html\n",
    "'''"
   ]
  },
  {
   "cell_type": "code",
   "execution_count": 2,
   "metadata": {},
   "outputs": [
    {
     "name": "stderr",
     "output_type": "stream",
     "text": [
      "Using TensorFlow backend.\n"
     ]
    }
   ],
   "source": [
    "from __future__ import print_function\n",
    "\n",
    "import os\n",
    "import sys\n",
    "import numpy as np\n",
    "from keras.preprocessing.text import Tokenizer\n",
    "from keras.preprocessing.sequence import pad_sequences\n",
    "from keras.utils import to_categorical\n",
    "from keras.layers import Dense, Input, Flatten\n",
    "from keras.layers import Conv1D, MaxPooling1D, Embedding\n",
    "from keras.models import Model\n",
    "from keras_tqdm import TQDMNotebookCallback\n",
    "import pandas as pd"
   ]
  },
  {
   "cell_type": "code",
   "execution_count": 3,
   "metadata": {},
   "outputs": [
    {
     "name": "stdout",
     "output_type": "stream",
     "text": [
      "env: CUDA_DEVICE_ORDER=PCI_BUS_ID\n",
      "env: CUDA_VISIBLE_DEVICES=0\n"
     ]
    }
   ],
   "source": [
    "\n",
    "#Set Which GPU to use. \n",
    "%env CUDA_DEVICE_ORDER=PCI_BUS_ID\n",
    "%env CUDA_VISIBLE_DEVICES=0"
   ]
  },
  {
   "cell_type": "code",
   "execution_count": 16,
   "metadata": {
    "collapsed": true
   },
   "outputs": [],
   "source": [
    "#BASE_DIR = '/media/sohn/Storage/data_glove/'\n",
    "DATA_PATH = '/data/sohn/wabd_full1.csv'\n",
    "BASE_DIR = '/data/sohn/data_glove/'\n",
    "GLOVE_DIR = BASE_DIR + 'glove.6b/'\n",
    "TEXT_DATA_DIR = BASE_DIR + '20_newsgroup/'\n",
    "MAX_SEQUENCE_LENGTH = 1000\n",
    "MAX_NB_WORDS = 10000\n",
    "EMBEDDING_DIM = 100\n",
    "VALIDATION_SPLIT = 0.2"
   ]
  },
  {
   "cell_type": "code",
   "execution_count": 17,
   "metadata": {},
   "outputs": [
    {
     "name": "stdout",
     "output_type": "stream",
     "text": [
      "Indexing word vectors.\n",
      "Found 400000 word vectors.\n"
     ]
    }
   ],
   "source": [
    "# first, build index mapping words in the embeddings set\n",
    "# to their embedding vector\n",
    "\n",
    "print('Indexing word vectors.')\n",
    "\n",
    "embeddings_index = {}\n",
    "f = open(os.path.join(GLOVE_DIR, 'glove.6B.100d.txt'))\n",
    "for line in f:\n",
    "    values = line.split()\n",
    "    word = values[0]\n",
    "    coefs = np.asarray(values[1:], dtype='float32')\n",
    "    embeddings_index[word] = coefs\n",
    "f.close()\n",
    "\n",
    "print('Found %s word vectors.' % len(embeddings_index))"
   ]
  },
  {
   "cell_type": "code",
   "execution_count": 68,
   "metadata": {},
   "outputs": [
    {
     "name": "stdout",
     "output_type": "stream",
     "text": [
      "Processing text dataset\n",
      "Found 19997 texts.\n"
     ]
    }
   ],
   "source": [
    "# second, prepare text samples and their labels\n",
    "print('Processing text dataset')\n",
    "\n",
    "texts = []  # list of text samples\n",
    "labels_index = {}  # dictionary mapping label name to numeric id\n",
    "labels = []  # list of label ids\n",
    "for name in sorted(os.listdir(TEXT_DATA_DIR)):\n",
    "    path = os.path.join(TEXT_DATA_DIR, name)\n",
    "    if os.path.isdir(path):\n",
    "        label_id = len(labels_index)\n",
    "        labels_index[name] = label_id\n",
    "        for fname in sorted(os.listdir(path)):\n",
    "            if fname.isdigit():\n",
    "                fpath = os.path.join(path, fname)\n",
    "                if sys.version_info < (3,):\n",
    "                    f = open(fpath)\n",
    "                else:\n",
    "                    f = open(fpath, encoding='latin-1')\n",
    "                t = f.read()\n",
    "                i = t.find('\\n\\n')  # skip header\n",
    "                if 0 < i:\n",
    "                    t = t[i:]\n",
    "                texts.append(t)\n",
    "                f.close()\n",
    "                labels.append(label_id)\n",
    "\n",
    "print('Found %s texts.' % len(texts))"
   ]
  },
  {
   "cell_type": "code",
   "execution_count": 18,
   "metadata": {},
   "outputs": [],
   "source": [
    "#np.loadtxt(DATA_PATH, delimiter=',')\n",
    "#pd.read_csv(DATA_PATH)\n",
    "df = pd.read_excel('/data/sohn/wabd_full.xlsx')\n",
    "texts = []\n",
    "labels = []\n",
    "texts=list(df['indication'])\n",
    "labels=list(df['protocol1'])"
   ]
  },
  {
   "cell_type": "code",
   "execution_count": null,
   "metadata": {},
   "outputs": [],
   "source": [
    "\n"
   ]
  },
  {
   "cell_type": "code",
   "execution_count": 19,
   "metadata": {},
   "outputs": [
    {
     "name": "stdout",
     "output_type": "stream",
     "text": [
      "Found 1125 unique tokens.\n"
     ]
    }
   ],
   "source": [
    "# finally, vectorize the text samples into a 2D integer tensor\n",
    "tokenizer = Tokenizer(num_words=MAX_NB_WORDS)\n",
    "tokenizer.fit_on_texts(texts)\n",
    "sequences = tokenizer.texts_to_sequences(texts)\n",
    "\n",
    "word_index = tokenizer.word_index\n",
    "print('Found %s unique tokens.' % len(word_index))"
   ]
  },
  {
   "cell_type": "code",
   "execution_count": 20,
   "metadata": {},
   "outputs": [
    {
     "name": "stdout",
     "output_type": "stream",
     "text": [
      "Shape of data tensor: (250, 1000)\n",
      "Shape of label tensor: (250, 9)\n"
     ]
    }
   ],
   "source": [
    "data = pad_sequences(sequences, maxlen=MAX_SEQUENCE_LENGTH)\n",
    "\n",
    "labels = to_categorical(np.asarray(labels))\n",
    "#labels = np.asarray(labels)\n",
    "print('Shape of data tensor:', data.shape)\n",
    "print('Shape of label tensor:', labels.shape)"
   ]
  },
  {
   "cell_type": "code",
   "execution_count": 35,
   "metadata": {},
   "outputs": [
    {
     "data": {
      "text/plain": [
       "['69 YO FEMALE FOUND TO HAVE PANCREATIC HEAD MASS ON CT, C/F PSEUDOCYST VS MALIGNANCY.  Reason: EVALUATE PANCREATIC HEAD MASS',\n",
       " 'SBO, CT NONCONT SHOWED POSSIBLE MASS AT HEAD OF PANCREAS AND CYST LESION AT TAIL. HAS CKD.  Reason: MRCP PLEASE. EVALUATE POSSIBLEPANCREATIC MASSES',\n",
       " '54 Y/O F WITH PANCREATIC MASS ON CT  Reason: FURTHER IMAGING OF PATIENT PANCREATIC MASS',\n",
       " 'MRCP - 72 YO M WITH NEW PANCREATIC HEAD MASS AND ?PANCREATITIS. PLEASE PERFORM MRCP TO EVALUATE PANCREATIC HEAD MASS  Reason: MRCP - PANCREATIC MASS',\n",
       " 'EVALUATE FOR GALLSTONE VS MASS PANCREATITIS. RECOMMENDED PER GI CONSULT.  Reason: MRCP',\n",
       " '63M W/ DM2 ADMITTED WITH FOOT ULCER, FOUND TO HAVE WASTING, FTT, AND COGNITIVE IMPAIRMENT, WITH CHRONIC ALK PHOS ELEVATION AND \"COARSE\" LIVER ON U/S WITH DILATED BILE DUCT.  Reason: BILIARY DILATATION AND ELEVATED ALK PHOS, CONCERN FOR MASS/S; MRCP, LIVER',\n",
       " '57 Y/O F WITH PAINLESS JAUNDICE, CONCERN FOR PANCREATIC HEAD MASS ON U/S.  Reason: MRCP',\n",
       " '58 YO F W/MET CA (PRIMARY UNKNOWN) W/BIL DIL ON RECENT CT ABDOMEN/PELVIS. REQUESTING MRCP  Reason: MRCP',\n",
       " 'INTRA AND EXTRAHEPATIC BIL DIL WITH NEW CIRRHOSIS, EVAL FOR PANCREATIC HEAD MASS  Reason: MRCP FOR BIL DIL']"
      ]
     },
     "execution_count": 35,
     "metadata": {},
     "output_type": "execute_result"
    }
   ],
   "source": [
    "texts[1:10]"
   ]
  },
  {
   "cell_type": "code",
   "execution_count": 56,
   "metadata": {},
   "outputs": [
    {
     "data": {
      "text/plain": [
       "array(['MRI/MRCP abdomen eovist', 'MRI abdomen gadavist',\n",
       "       'MRI/MRCP abdomen eovist', 'MRI abdomen eovist',\n",
       "       'MRI abdomen gadavist', 'MRI/MRCP abdomen eovist',\n",
       "       'MRI abdomen gadavist', 'MRI/MRCP abdomen eovist',\n",
       "       'MRI/MRCP abdomen gadavist', 'MRI/MRCP abdomen eovist',\n",
       "       'MRI/MRCP abdomen gadavist', 'MRI abdomen eovist',\n",
       "       'MRI Pelvis with and without', 'MRI appendicitis',\n",
       "       'MRI abdomen gadavist', 'MRI Pelvis with and without',\n",
       "       'MRI/MRCP abdomen eovist', 'MRI/MRCP abdomen eovist',\n",
       "       'MRI/MRCP abdomen with gadavist', 'MRI Pelvis with and without',\n",
       "       'MRI abdomen & pelvis gadavist', 'MRI abdomen eovist',\n",
       "       'MRI abdomen eovist', 'MRA abdomen with gadavist',\n",
       "       'MRI/MRCP abdomen gadavist', 'MRI/MRCP abdomen eovist',\n",
       "       'MRA abdomen with gadavist', 'MRI/MRCP abdomen eovist',\n",
       "       'MRI Pelvis with and without', 'MRI appendicitis',\n",
       "       'MRI abdomen & pelvis gadavist', 'MRI/MRCP abdomen gadavist',\n",
       "       'MRI appendicitis', 'MRI appendicitis', 'MRI abdomen gadavist',\n",
       "       'MRI/MRCP abdomen eovist', 'MRI abdomen gadavist',\n",
       "       'MRI/MRCP abdomen eovist', 'MRI/MRCP abdomen eovist',\n",
       "       'MRI/MRCP abdomen gadavist', 'MRI rectal',\n",
       "       'MRI/MRCP abdomen with gadavist', 'MRI abdomen gadavist',\n",
       "       'MRI appendicitis', 'MRI/MRCP abdomen eovist',\n",
       "       'MRI/MRCP abdomen with gadavist', 'MRI appendicitis',\n",
       "       'MRI appendicitis', 'MRI appendicitis', 'MRI/MRCP abdomen eovist',\n",
       "       'MRI appendicitis', 'MRI/MRCP abdomen gadavist',\n",
       "       'MRI/MRCP abdomen with gadavist', 'MRI abdomen gadavist',\n",
       "       'MRI appendicitis', 'MRI/MRCP abdomen eovist',\n",
       "       'MRI abdomen gadavist', 'MRI appendicitis',\n",
       "       'MRI/MRCP abdomen eovist', 'MRI appendicitis',\n",
       "       'MRI/MRCP abdomen eovist', 'MRI/MRCP abdomen gadavist',\n",
       "       'MRI abdomen gadavist', 'MRI/MRCP abdomen eovist',\n",
       "       'MRI/MRCP abdomen eovist', 'MRI appendicitis',\n",
       "       'MRI/MRCP abdomen eovist', 'MRI appendicitis',\n",
       "       'MRI/MRCP abdomen eovist', 'MRA abdomen with gadavist',\n",
       "       'MRI appendicitis', 'MRI/MRCP abdomen eovist',\n",
       "       'MRI abdomen gadavist', 'MRI appendicitis', 'MRI appendicitis',\n",
       "       'MRI appendicitis', 'MRI/MRCP abdomen eovist',\n",
       "       'MRI/MRCP abdomen eovist', 'MRI/MRCP abdomen eovist',\n",
       "       'MRI appendicitis', 'MRI/MRCP abdomen gadavist',\n",
       "       'MRI Pelvis with and without', 'MRI/MRCP abdomen eovist',\n",
       "       'MRI abdomen eovist', 'MRI Pelvis with and without',\n",
       "       'MRI/MRCP abdomen eovist', 'MRI appendicitis',\n",
       "       'MRI Pelvis with and without', 'MRI/MRCP abdomen eovist',\n",
       "       'MRI/MRCP abdomen eovist', 'MRI abdomen gadavist',\n",
       "       'MRI/MRCP abdomen eovist', 'MRI/MRCP abdomen eovist',\n",
       "       'MRI/MRCP abdomen eovist', 'MRI/MRCP abdomen eovist',\n",
       "       'MRI/MRCP abdomen eovist', 'MRI/MRCP abdomen eovist',\n",
       "       'MRI Pelvis with and without', 'MRI Pelvis with and without',\n",
       "       'MRI Pelvis with and without', 'MRI abdomen gadavist',\n",
       "       'MRI abdomen gadavist', 'MRI appendicitis', 'MRI abdomen gadavist',\n",
       "       'MRI/MRCP abdomen eovist', 'MRI/MRCP abdomen eovist',\n",
       "       'MRI/MRCP abdomen eovist', 'MRI/MRCP abdomen eovist',\n",
       "       'MRI abdomen gadavist', 'MRI/MRCP abdomen with gadavist',\n",
       "       'MRI abdomen gadavist', 'MRI/MRCP abdomen eovist',\n",
       "       'MRA abdomen with gadavist', 'MRI abdomen gadavist',\n",
       "       'MRI/MRCP abdomen eovist', 'MRI/MRCP abdomen gadavist',\n",
       "       'MRI/MRCP abdomen gadavist', 'MRI Pelvis with and without',\n",
       "       'MRI appendicitis', 'MRI abdomen gadavist',\n",
       "       'MRI/MRCP abdomen with gadavist', 'MRI abdomen gadavist',\n",
       "       'MRI appendicitis', 'MRI/MRCP abdomen eovist',\n",
       "       'MRI abdomen gadavist', 'MRI/MRCP abdomen eovist',\n",
       "       'MRI abdomen gadavist', 'MRI abdomen gadavist', 'MRI appendicitis',\n",
       "       'MRI/MRCP abdomen eovist', 'MRI abdomen gadavist',\n",
       "       'MRI/MRCP abdomen eovist', 'MRI Pelvis with and without',\n",
       "       'MRI abdomen gadavist', 'MRI/MRCP abdomen eovist',\n",
       "       'MRI Pelvis with and without', 'MRI Pelvis with and without',\n",
       "       'MRI abdomen gadavist', 'MRI/MRCP abdomen eovist',\n",
       "       'MRI/MRCP abdomen eovist', 'MRI/MRCP abdomen eovist', 'MRI rectal',\n",
       "       'MRI/MRCP abdomen eovist', 'MRI/MRCP abdomen with gadavist',\n",
       "       'MRI abdomen gadavist', 'MRI Pelvis with and without',\n",
       "       'MRI appendicitis', 'MRI Liver Iron', 'MRI abdomen eovist',\n",
       "       'MRI abdomen gadavist', 'MRI/MRCP abdomen eovist',\n",
       "       'MRI appendicitis', 'MRI/MRCP abdomen eovist',\n",
       "       'MRI abdomen gadavist', 'MRI/MRCP abdomen gadavist',\n",
       "       'MRI appendicitis', 'MRI appendicitis', 'MRI abdomen eovist',\n",
       "       'MRI abdomen without contrast', 'MRI/MRCP abdomen eovist',\n",
       "       'MRI/MRCP abdomen eovist', 'MRI/MRCP abdomen eovist', 'MRV',\n",
       "       'MRI Pelvis with and without', 'MRI/MRCP abdomen eovist',\n",
       "       'MRI Pelvis with and without', 'MRI/MRCP abdomen eovist',\n",
       "       'MRI appendicitis', 'MRI appendicitis', 'MRI abdomen gadavist',\n",
       "       'MRI/MRCP abdomen eovist', 'MRI appendicitis',\n",
       "       'MRI/MRCP abdomen eovist', 'MRI/MRCP abdomen eovist',\n",
       "       'MRI Pelvis with and without', 'MRI/MRCP abdomen eovist',\n",
       "       'MRI appendicitis', 'MRI/MRCP abdomen eovist',\n",
       "       'MRI/MRCP abdomen eovist', 'MRI/MRCP abdomen eovist',\n",
       "       'MRI abdomen gadavist', 'MRI abdomen gadavist',\n",
       "       'MRI abdomen without contrast', 'MRI/MRCP abdomen eovist',\n",
       "       'MRI/MRCP abdomen eovist', 'MRI Pelvis with and without',\n",
       "       'MRI Pelvis with and without', 'MRI/MRCP abdomen with gadavist',\n",
       "       'MRI Pelvis with and without', 'MRI/MRCP abdomen with gadavist',\n",
       "       'MRI/MRCP abdomen with gadavist', 'MRI appendicitis',\n",
       "       'MRI appendicitis', 'MRI abdomen gadavist',\n",
       "       'MRI/MRCP abdomen eovist', 'MRI appendicitis',\n",
       "       'MRI/MRCP abdomen eovist', 'MRI/MRCP abdomen eovist',\n",
       "       'MRI/MRCP abdomen with gadavist', 'MRI/MRCP abdomen gadavist',\n",
       "       'MRI appendicitis', 'MRI/MRCP abdomen with gadavist',\n",
       "       'MRI/MRCP abdomen eovist', 'MRI abdomen gadavist',\n",
       "       'MRI/MRCP abdomen eovist', 'MRI/MRCP abdomen gadavist',\n",
       "       'MRI/MRCP abdomen eovist', 'MRI/MRCP abdomen eovist',\n",
       "       'MRI Pelvis with and without', 'MRI abdomen gadavist',\n",
       "       'MRI Pelvis with and without', 'MRI/MRCP abdomen eovist',\n",
       "       'MRI/MRCP abdomen eovist', 'MRI rectal', 'MRI/MRCP abdomen eovist',\n",
       "       'MRI/MRCP abdomen eovist', 'MRI appendicitis',\n",
       "       'MRI abdomen gadavist', 'MRI/MRCP abdomen eovist',\n",
       "       'MRI/MRCP abdomen eovist', 'MRI/MRCP abdomen eovist',\n",
       "       'MRI/MRCP abdomen with gadavist', 'MRI/MRCP abdomen eovist',\n",
       "       'MRI/MRCP abdomen eovist', 'MRI/MRCP abdomen with gadavist',\n",
       "       'MRI appendicitis', 'MRI abdomen gadavist',\n",
       "       'MRI/MRCP abdomen eovist', 'MRI/MRCP abdomen eovist', 'MRI rectal',\n",
       "       'MRI abdomen gadavist', 'MRI appendicitis', 'MRI appendicitis',\n",
       "       'MRI/MRCP abdomen gadavist', 'MRI penis', 'MRI/MRCP abdomen eovist',\n",
       "       'MRI appendicitis', 'MRI abdomen gadavist',\n",
       "       'MRI/MRCP abdomen eovist', 'MRI/MRCP abdomen eovist',\n",
       "       'MRI/MRCP abdomen eovist', 'MRI/MRCP abdomen with gadavist',\n",
       "       'MRI abdomen gadavist', 'MRI/MRCP abdomen eovist',\n",
       "       'MRI/MRCP abdomen eovist', 'MRI abdomen eovist',\n",
       "       'MRI/MRCP abdomen eovist', 'MRI Pelvis with and without',\n",
       "       'MRI abdomen gadavist', 'MRI abdomen without contrast',\n",
       "       'MRI Pelvis with and without', 'MRI abdomen eovist',\n",
       "       'MRI/MRCP abdomen eovist'],\n",
       "      dtype='<U30')"
      ]
     },
     "execution_count": 56,
     "metadata": {},
     "output_type": "execute_result"
    }
   ],
   "source": [
    "np.asarray(labels)"
   ]
  },
  {
   "cell_type": "code",
   "execution_count": 21,
   "metadata": {
    "collapsed": true
   },
   "outputs": [],
   "source": [
    "# split the data into a training set and a validation set\n",
    "indices = np.arange(data.shape[0])\n",
    "np.random.shuffle(indices)\n",
    "data = data[indices]\n",
    "labels = labels[indices]\n",
    "num_validation_samples = int(VALIDATION_SPLIT * data.shape[0])"
   ]
  },
  {
   "cell_type": "code",
   "execution_count": 22,
   "metadata": {
    "collapsed": true
   },
   "outputs": [],
   "source": [
    "x_train = data[:-num_validation_samples]\n",
    "y_train = labels[:-num_validation_samples]\n",
    "x_val = data[-num_validation_samples:]\n",
    "y_val = labels[-num_validation_samples:]"
   ]
  },
  {
   "cell_type": "code",
   "execution_count": 32,
   "metadata": {},
   "outputs": [
    {
     "data": {
      "text/plain": [
       "array([  0,   0,   0,   0,   0,   0,   0,   0,   0,   0,   0,   0,   0,\n",
       "         0,   0,   0,   0,   0,   0,   0,   0,   0,   0,   0,   0,   0,\n",
       "         0,   0,   0,   0,   0,   0,   0,   0,   0,   0,   0,   0,   0,\n",
       "         0,   0,   0,   0,   0,   0,   0,   0,   0,   0,   0,   0,   0,\n",
       "         0,   0,   0,   0,   0,   0,   0,   0,   0,   0,   0,   0,   0,\n",
       "         0,   0,   0,   0,   0,   0,   0,   0,   0,   0,   0,   0,   0,\n",
       "         0,   0,   0,   0,   0,   0,   0,   0,   0,   0,   0,   0,   0,\n",
       "         0,   0,   0,   0,   0,   0,   0,   0,   0,   0,   0,   0,   0,\n",
       "         0,   0,   0,   0,   0,   0,   0,   0,   0,   0,   0,   0,   0,\n",
       "         0,   0,   0,   0,   0,   0,   0,   0,   0,   0,   0,   0,   0,\n",
       "         0,   0,   0,   0,   0,   0,   0,   0,   0,   0,   0,   0,   0,\n",
       "         0,   0,   0,   0,   0,   0,   0,   0,   0,   0,   0,   0,   0,\n",
       "         0,   0,   0,   0,   0,   0,   0,   0,   0,   0,   0,   0,   0,\n",
       "         0,   0,   0,   0,   0,   0,   0,   0,   0,   0,   0,   0,   0,\n",
       "         0,   0,   0,   0,   0,   0,   0,   0,   0,   0,   0,   0,   0,\n",
       "         0,   0,   0,   0,   0,   0,   0,   0,   0,   0,   0,   0,   0,\n",
       "         0,   0,   0,   0,   0,   0,   0,   0,   0,   0,   0,   0,   0,\n",
       "         0,   0,   0,   0,   0,   0,   0,   0,   0,   0,   0,   0,   0,\n",
       "         0,   0,   0,   0,   0,   0,   0,   0,   0,   0,   0,   0,   0,\n",
       "         0,   0,   0,   0,   0,   0,   0,   0,   0,   0,   0,   0,   0,\n",
       "         0,   0,   0,   0,   0,   0,   0,   0,   0,   0,   0,   0,   0,\n",
       "         0,   0,   0,   0,   0,   0,   0,   0,   0,   0,   0,   0,   0,\n",
       "         0,   0,   0,   0,   0,   0,   0,   0,   0,   0,   0,   0,   0,\n",
       "         0,   0,   0,   0,   0,   0,   0,   0,   0,   0,   0,   0,   0,\n",
       "         0,   0,   0,   0,   0,   0,   0,   0,   0,   0,   0,   0,   0,\n",
       "         0,   0,   0,   0,   0,   0,   0,   0,   0,   0,   0,   0,   0,\n",
       "         0,   0,   0,   0,   0,   0,   0,   0,   0,   0,   0,   0,   0,\n",
       "         0,   0,   0,   0,   0,   0,   0,   0,   0,   0,   0,   0,   0,\n",
       "         0,   0,   0,   0,   0,   0,   0,   0,   0,   0,   0,   0,   0,\n",
       "         0,   0,   0,   0,   0,   0,   0,   0,   0,   0,   0,   0,   0,\n",
       "         0,   0,   0,   0,   0,   0,   0,   0,   0,   0,   0,   0,   0,\n",
       "         0,   0,   0,   0,   0,   0,   0,   0,   0,   0,   0,   0,   0,\n",
       "         0,   0,   0,   0,   0,   0,   0,   0,   0,   0,   0,   0,   0,\n",
       "         0,   0,   0,   0,   0,   0,   0,   0,   0,   0,   0,   0,   0,\n",
       "         0,   0,   0,   0,   0,   0,   0,   0,   0,   0,   0,   0,   0,\n",
       "         0,   0,   0,   0,   0,   0,   0,   0,   0,   0,   0,   0,   0,\n",
       "         0,   0,   0,   0,   0,   0,   0,   0,   0,   0,   0,   0,   0,\n",
       "         0,   0,   0,   0,   0,   0,   0,   0,   0,   0,   0,   0,   0,\n",
       "         0,   0,   0,   0,   0,   0,   0,   0,   0,   0,   0,   0,   0,\n",
       "         0,   0,   0,   0,   0,   0,   0,   0,   0,   0,   0,   0,   0,\n",
       "         0,   0,   0,   0,   0,   0,   0,   0,   0,   0,   0,   0,   0,\n",
       "         0,   0,   0,   0,   0,   0,   0,   0,   0,   0,   0,   0,   0,\n",
       "         0,   0,   0,   0,   0,   0,   0,   0,   0,   0,   0,   0,   0,\n",
       "         0,   0,   0,   0,   0,   0,   0,   0,   0,   0,   0,   0,   0,\n",
       "         0,   0,   0,   0,   0,   0,   0,   0,   0,   0,   0,   0,   0,\n",
       "         0,   0,   0,   0,   0,   0,   0,   0,   0,   0,   0,   0,   0,\n",
       "         0,   0,   0,   0,   0,   0,   0,   0,   0,   0,   0,   0,   0,\n",
       "         0,   0,   0,   0,   0,   0,   0,   0,   0,   0,   0,   0,   0,\n",
       "         0,   0,   0,   0,   0,   0,   0,   0,   0,   0,   0,   0,   0,\n",
       "         0,   0,   0,   0,   0,   0,   0,   0,   0,   0,   0,   0,   0,\n",
       "         0,   0,   0,   0,   0,   0,   0,   0,   0,   0,   0,   0,   0,\n",
       "         0,   0,   0,   0,   0,   0,   0,   0,   0,   0,   0,   0,   0,\n",
       "         0,   0,   0,   0,   0,   0,   0,   0,   0,   0,   0,   0,   0,\n",
       "         0,   0,   0,   0,   0,   0,   0,   0,   0,   0,   0,   0,   0,\n",
       "         0,   0,   0,   0,   0,   0,   0,   0,   0,   0,   0,   0,   0,\n",
       "         0,   0,   0,   0,   0,   0,   0,   0,   0,   0,   0,   0,   0,\n",
       "         0,   0,   0,   0,   0,   0,   0,   0,   0,   0,   0,   0,   0,\n",
       "         0,   0,   0,   0,   0,   0,   0,   0,   0,   0,   0,   0,   0,\n",
       "         0,   0,   0,   0,   0,   0,   0,   0,   0,   0,   0,   0,   0,\n",
       "         0,   0,   0,   0,   0,   0,   0,   0,   0,   0,   0,   0,   0,\n",
       "         0,   0,   0,   0,   0,   0,   0,   0,   0,   0,   0,   0,   0,\n",
       "         0,   0,   0,   0,   0,   0,   0,   0,   0,   0,   0,   0,   0,\n",
       "         0,   0,   0,   0,   0,   0,   0,   0,   0,   0,   0,   0,   0,\n",
       "         0,   0,   0,   0,   0,   0,   0,   0,   0,   0,   0,   0,   0,\n",
       "         0,   0,   0,   0,   0,   0,   0,   0,   0,   0,   0,   0,   0,\n",
       "         0,   0,   0,   0,   0,   0,   0,   0,   0,   0,   0,   0,   0,\n",
       "         0,   0,   0,   0,   0,   0,   0,   0,   0,   0,   0,   0,   0,\n",
       "         0,   0,   0,   0,   0,   0,   0,   0,   0,   0,   0,   0,   0,\n",
       "         0,   0,   0,   0,   0,   0,   0,   0,   0,   0,   0,   0,   0,\n",
       "         0,   0,   0,   0,   0,   0,   0,   0,   0,   0,   0,   0,   0,\n",
       "         0,   0,   0,   0,   0,   0,   0,   0,   0,   0,   0,   0,   0,\n",
       "         0,   0,   0,   0,   0,   0,   0,   0,   0,   0,   0,   0,   0,\n",
       "         0,   0,   0,   0,   0,   0,   0,   0,   0,   0,   0,   0,   0,\n",
       "         0,   0,   0,   0,   0,   0,   0,   0,   0,   0,   0,   0,   0,\n",
       "         0,   0,   0,   0,   0,   0,   0,   0,   0,   0,   0,   0,   0,\n",
       "         0,   0,   0,   0,   0,   0,   0,   0,   0,   0,   0,   0,   0,\n",
       "         0,   0,   0,   0,  60,  98,   6, 150,  85,  61,   1,   3], dtype=int32)"
      ]
     },
     "execution_count": 32,
     "metadata": {},
     "output_type": "execute_result"
    }
   ],
   "source": []
  },
  {
   "cell_type": "code",
   "execution_count": 23,
   "metadata": {},
   "outputs": [
    {
     "name": "stdout",
     "output_type": "stream",
     "text": [
      "Preparing embedding matrix.\n"
     ]
    }
   ],
   "source": [
    "print('Preparing embedding matrix.')\n",
    "\n",
    "# prepare embedding matrix\n",
    "num_words = min(MAX_NB_WORDS, len(word_index))\n",
    "embedding_matrix = np.zeros((num_words, EMBEDDING_DIM))\n",
    "for word, i in word_index.items():\n",
    "    if i >= MAX_NB_WORDS:\n",
    "        continue\n",
    "    embedding_vector = embeddings_index.get(word)\n",
    "    if embedding_vector is not None:\n",
    "        # words not found in embedding index will be all-zeros.\n",
    "        embedding_matrix[i] = embedding_vector"
   ]
  },
  {
   "cell_type": "code",
   "execution_count": 24,
   "metadata": {
    "collapsed": true
   },
   "outputs": [],
   "source": [
    "# load pre-trained word embeddings into an Embedding layer\n",
    "# note that we set trainable = False so as to keep the embeddings fixed\n",
    "embedding_layer = Embedding(num_words,\n",
    "                            EMBEDDING_DIM,\n",
    "                            weights=[embedding_matrix],\n",
    "                            input_length=MAX_SEQUENCE_LENGTH,\n",
    "                            trainable=False)"
   ]
  },
  {
   "cell_type": "code",
   "execution_count": null,
   "metadata": {},
   "outputs": [],
   "source": []
  },
  {
   "cell_type": "code",
   "execution_count": 25,
   "metadata": {},
   "outputs": [
    {
     "name": "stdout",
     "output_type": "stream",
     "text": [
      "Training model.\n"
     ]
    }
   ],
   "source": [
    "print('Training model.')\n",
    "\n",
    "# train a 1D convnet with global maxpooling\n",
    "sequence_input = Input(shape=(MAX_SEQUENCE_LENGTH,), dtype='int32')\n",
    "embedded_sequences = embedding_layer(sequence_input)\n",
    "x = Conv1D(128, 5, activation='relu')(embedded_sequences)\n",
    "x = MaxPooling1D(5)(x)\n",
    "x = Conv1D(128, 5, activation='relu')(x)\n",
    "x = MaxPooling1D(5)(x)\n",
    "x = Conv1D(128, 5, activation='relu')(x)\n",
    "x = MaxPooling1D(35)(x)\n",
    "x = Flatten()(x)\n",
    "x = Dense(128, activation='relu')(x)\n",
    "preds = Dense(9, activation='softmax')(x)\n",
    "#must change the last number to number of categories\n"
   ]
  },
  {
   "cell_type": "code",
   "execution_count": 26,
   "metadata": {
    "collapsed": true
   },
   "outputs": [],
   "source": [
    "model = Model(sequence_input, preds)\n",
    "model.compile(loss='categorical_crossentropy',\n",
    "              optimizer='rmsprop',\n",
    "              metrics=['acc'])"
   ]
  },
  {
   "cell_type": "code",
   "execution_count": 27,
   "metadata": {},
   "outputs": [
    {
     "name": "stdout",
     "output_type": "stream",
     "text": [
      "_________________________________________________________________\n",
      "Layer (type)                 Output Shape              Param #   \n",
      "=================================================================\n",
      "input_2 (InputLayer)         (None, 1000)              0         \n",
      "_________________________________________________________________\n",
      "embedding_2 (Embedding)      (None, 1000, 100)         112500    \n",
      "_________________________________________________________________\n",
      "conv1d_4 (Conv1D)            (None, 996, 128)          64128     \n",
      "_________________________________________________________________\n",
      "max_pooling1d_4 (MaxPooling1 (None, 199, 128)          0         \n",
      "_________________________________________________________________\n",
      "conv1d_5 (Conv1D)            (None, 195, 128)          82048     \n",
      "_________________________________________________________________\n",
      "max_pooling1d_5 (MaxPooling1 (None, 39, 128)           0         \n",
      "_________________________________________________________________\n",
      "conv1d_6 (Conv1D)            (None, 35, 128)           82048     \n",
      "_________________________________________________________________\n",
      "max_pooling1d_6 (MaxPooling1 (None, 1, 128)            0         \n",
      "_________________________________________________________________\n",
      "flatten_1 (Flatten)          (None, 128)               0         \n",
      "_________________________________________________________________\n",
      "dense_1 (Dense)              (None, 128)               16512     \n",
      "_________________________________________________________________\n",
      "dense_2 (Dense)              (None, 9)                 1161      \n",
      "=================================================================\n",
      "Total params: 358,397\n",
      "Trainable params: 245,897\n",
      "Non-trainable params: 112,500\n",
      "_________________________________________________________________\n"
     ]
    }
   ],
   "source": [
    "model.summary()"
   ]
  },
  {
   "cell_type": "code",
   "execution_count": 28,
   "metadata": {},
   "outputs": [
    {
     "data": {
      "application/vnd.jupyter.widget-view+json": {
       "model_id": "9d9ad03b8e0443e78410b9ad68f61215"
      }
     },
     "metadata": {},
     "output_type": "display_data"
    },
    {
     "data": {
      "application/vnd.jupyter.widget-view+json": {
       "model_id": "cde0b538e2a14871a12a19392e9c698d"
      }
     },
     "metadata": {},
     "output_type": "display_data"
    },
    {
     "data": {
      "application/vnd.jupyter.widget-view+json": {
       "model_id": "d726ece37b2e42e2b0067d446eeb3766"
      }
     },
     "metadata": {},
     "output_type": "display_data"
    },
    {
     "data": {
      "application/vnd.jupyter.widget-view+json": {
       "model_id": "bce72c9c30b442e88af9a9c40455b40d"
      }
     },
     "metadata": {},
     "output_type": "display_data"
    },
    {
     "data": {
      "application/vnd.jupyter.widget-view+json": {
       "model_id": "7b00c771930f4177aa91012ef198f7ca"
      }
     },
     "metadata": {},
     "output_type": "display_data"
    },
    {
     "data": {
      "application/vnd.jupyter.widget-view+json": {
       "model_id": "2597cb1f3bd0474b963d44435be5a503"
      }
     },
     "metadata": {},
     "output_type": "display_data"
    },
    {
     "data": {
      "application/vnd.jupyter.widget-view+json": {
       "model_id": "1bd85e3ba6294deb9f12ee0b127171f2"
      }
     },
     "metadata": {},
     "output_type": "display_data"
    },
    {
     "data": {
      "application/vnd.jupyter.widget-view+json": {
       "model_id": "de75cf4e8b204b06b0af14173e1f1d73"
      }
     },
     "metadata": {},
     "output_type": "display_data"
    },
    {
     "data": {
      "application/vnd.jupyter.widget-view+json": {
       "model_id": "7cc2ba16a9b34ea780c95b38a51f4c46"
      }
     },
     "metadata": {},
     "output_type": "display_data"
    },
    {
     "data": {
      "application/vnd.jupyter.widget-view+json": {
       "model_id": "9cbf7d010ad94f2a823b224c8353da91"
      }
     },
     "metadata": {},
     "output_type": "display_data"
    },
    {
     "data": {
      "application/vnd.jupyter.widget-view+json": {
       "model_id": "6a381fe8115f4b7390b0d8ccc5f689de"
      }
     },
     "metadata": {},
     "output_type": "display_data"
    },
    {
     "name": "stdout",
     "output_type": "stream",
     "text": [
      "\n"
     ]
    },
    {
     "data": {
      "text/plain": [
       "<keras.callbacks.History at 0x7fae574f3518>"
      ]
     },
     "execution_count": 28,
     "metadata": {},
     "output_type": "execute_result"
    }
   ],
   "source": [
    "model.fit(x_train, y_train,\n",
    "          batch_size=128,\n",
    "          epochs=10,\n",
    "          validation_data=(x_val, y_val),\n",
    "          verbose=0,\n",
    "          callbacks=[TQDMNotebookCallback(leave_inner=True)])"
   ]
  },
  {
   "cell_type": "code",
   "execution_count": 15,
   "metadata": {},
   "outputs": [
    {
     "ename": "NameError",
     "evalue": "name 'x_test' is not defined",
     "output_type": "error",
     "traceback": [
      "\u001b[0;31m---------------------------------------------------------------------------\u001b[0m",
      "\u001b[0;31mNameError\u001b[0m                                 Traceback (most recent call last)",
      "\u001b[0;32m<ipython-input-15-7e197b488327>\u001b[0m in \u001b[0;36m<module>\u001b[0;34m()\u001b[0m\n\u001b[0;32m----> 1\u001b[0;31m \u001b[0mscore\u001b[0m \u001b[0;34m=\u001b[0m \u001b[0mmodel\u001b[0m\u001b[0;34m.\u001b[0m\u001b[0mevaluate\u001b[0m\u001b[0;34m(\u001b[0m\u001b[0mx_test\u001b[0m\u001b[0;34m,\u001b[0m \u001b[0my_test\u001b[0m\u001b[0;34m,\u001b[0m \u001b[0mbatch_size\u001b[0m\u001b[0;34m=\u001b[0m\u001b[0;36m64\u001b[0m\u001b[0;34m,\u001b[0m \u001b[0mverbose\u001b[0m\u001b[0;34m=\u001b[0m\u001b[0;36m0\u001b[0m\u001b[0;34m)\u001b[0m\u001b[0;34m\u001b[0m\u001b[0m\n\u001b[0m\u001b[1;32m      2\u001b[0m \u001b[0mprint\u001b[0m\u001b[0;34m(\u001b[0m\u001b[0;34m'Test score:'\u001b[0m\u001b[0;34m,\u001b[0m \u001b[0mscore\u001b[0m\u001b[0;34m[\u001b[0m\u001b[0;36m0\u001b[0m\u001b[0;34m]\u001b[0m\u001b[0;34m)\u001b[0m\u001b[0;34m\u001b[0m\u001b[0m\n\u001b[1;32m      3\u001b[0m \u001b[0mprint\u001b[0m\u001b[0;34m(\u001b[0m\u001b[0;34m'Test accuracy:'\u001b[0m\u001b[0;34m,\u001b[0m \u001b[0mscore\u001b[0m\u001b[0;34m[\u001b[0m\u001b[0;36m1\u001b[0m\u001b[0;34m]\u001b[0m\u001b[0;34m)\u001b[0m\u001b[0;34m\u001b[0m\u001b[0m\n",
      "\u001b[0;31mNameError\u001b[0m: name 'x_test' is not defined"
     ]
    }
   ],
   "source": []
  },
  {
   "cell_type": "code",
   "execution_count": null,
   "metadata": {
    "collapsed": true
   },
   "outputs": [],
   "source": []
  }
 ],
 "metadata": {
  "kernelspec": {
   "display_name": "Python 3",
   "language": "python",
   "name": "python3"
  },
  "language_info": {
   "codemirror_mode": {
    "name": "ipython",
    "version": 3
   },
   "file_extension": ".py",
   "mimetype": "text/x-python",
   "name": "python",
   "nbconvert_exporter": "python",
   "pygments_lexer": "ipython3",
   "version": "3.6.1"
  }
 },
 "nbformat": 4,
 "nbformat_minor": 2
}
